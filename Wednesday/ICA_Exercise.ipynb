{
  "nbformat": 4,
  "nbformat_minor": 0,
  "metadata": {
    "colab": {
      "provenance": [],
      "include_colab_link": true
    },
    "kernelspec": {
      "name": "python3",
      "display_name": "Python 3"
    },
    "language_info": {
      "name": "python"
    }
  },
  "cells": [
    {
      "cell_type": "markdown",
      "metadata": {
        "id": "view-in-github",
        "colab_type": "text"
      },
      "source": [
        "<a href=\"https://colab.research.google.com/github/Danalmestadi/T5-Week3/blob/main/ICA_Exercise.ipynb\" target=\"_parent\"><img src=\"https://colab.research.google.com/assets/colab-badge.svg\" alt=\"Open In Colab\"/></a>"
      ]
    },
    {
      "cell_type": "markdown",
      "source": [
        "#Step 1: Import necessary libraries\n",
        "###The implementation requires to import numpy, sklearn, FastICA and matplotlib.\n",
        "\n"
      ],
      "metadata": {
        "id": "rxZkQgZv8Tlc"
      }
    },
    {
      "cell_type": "code",
      "execution_count": null,
      "metadata": {
        "id": "7REjg6U_8K3b"
      },
      "outputs": [],
      "source": []
    },
    {
      "cell_type": "markdown",
      "source": [
        "#Step 2: Generate Random Data and Mix the Signals\n",
        "\n",
        "Random seed is set to generate random numbers.\n",
        "\n",
        "Samples and Time parameters are defined.\n",
        "\n",
        "Synthetic signals are generated and then combined to single matrix “S”.\n",
        "Noise is added to each element of the matrix.\n",
        "\n",
        "Matrix “A” is defined with coefficients the represent how the original signals are combined to form observed signals.\n",
        "\n",
        "The observed signals are obtained by multiplying the matrix “S” by the transpose of the mixing matrix “A”.\n"
      ],
      "metadata": {
        "id": "A8fR85EA8b4s"
      }
    },
    {
      "cell_type": "code",
      "source": [
        "# Generate synthetic mixed signals\n",
        "\n",
        "\n",
        "\n",
        "\n",
        "\n",
        "# Add noise\n",
        "\n",
        "\n",
        "\n",
        "# Mix the signals\n"
      ],
      "metadata": {
        "id": "DDEbDesf8l53"
      },
      "execution_count": null,
      "outputs": []
    },
    {
      "cell_type": "markdown",
      "source": [
        "#Step 3: Apply ICA to unmix the signals\n",
        "#In the following code snippet,\n",
        "\n",
        "\n",
        "\n",
        "*   An instance of FastICA class is created and number of independent components are set to 3.\n",
        "\n",
        "*   Fast ICA algorithm is applied to the observed mixed signals ‘X’. This fits the model to the data and transforms the data to obtain the estimated independent sources (S_).\n",
        "\n",
        "\n",
        "\n"
      ],
      "metadata": {
        "id": "DpoBtGJ08x1s"
      }
    },
    {
      "cell_type": "code",
      "source": [
        "\n",
        "\n",
        " # Estimated sources\n"
      ],
      "metadata": {
        "id": "9JV-2Jri8opK"
      },
      "execution_count": null,
      "outputs": []
    },
    {
      "cell_type": "markdown",
      "source": [
        "# Step 4: Visualize the signals\n"
      ],
      "metadata": {
        "id": "zJ5LPu_Q89sl"
      }
    },
    {
      "cell_type": "code",
      "source": [
        "# Plot the results\n",
        "\n"
      ],
      "metadata": {
        "id": "kdlvPYYP89OY"
      },
      "execution_count": null,
      "outputs": []
    }
  ]
}
